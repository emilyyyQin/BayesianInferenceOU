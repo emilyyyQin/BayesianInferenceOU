{
 "cells": [
  {
   "cell_type": "code",
   "execution_count": 1,
   "metadata": {},
   "outputs": [
    {
     "name": "stdout",
     "output_type": "stream",
     "text": [
      "A new struct `FavettoSamsonModified{T, K}` has been defined.\n"
     ]
    }
   ],
   "source": [
    "using GuidedProposals, DiffusionDefinition, ObservationSchemes\n",
    "const GP = GuidedProposals\n",
    "const DD = DiffusionDefinition\n",
    "const OBS = ObservationSchemes\n",
    "\n",
    "using StaticArrays, Random, Plots, LinearAlgebra\n",
    "using Statistics\n",
    "\n",
    "# seed used for this tutorial\n",
    "Random.seed!(100)\n",
    "\n",
    "## data generation ##\n",
    "@diffusion_process FavettoSamsonModified{T,K} begin\n",
    "    :dimensions\n",
    "    process --> 2\n",
    "    wiener --> 2\n",
    "\n",
    "    :parameters\n",
    "    (α, β, λ, μ, σ1, σ2) --> T\n",
    "    dose --> K\n",
    "\n",
    "    :additional\n",
    "    diagdiff --> true\n",
    "    constdiff --> true\n",
    "end\n",
    "\n",
    "DiffusionDefinition.b(t, x, P::FavettoSamsonModified) = @SVector [\n",
    "    P.α * P.dose(t) - (P.λ +P.β)*x[1] + (P.μ-P.λ)*x[2],\n",
    "    P.λ*x[1] - (P.μ-P.λ)*x[2]\n",
    "]\n",
    "\n",
    "DiffusionDefinition.σ(t, x, P::FavettoSamsonModified) = SDiagonal(P.σ1, P.σ2)"
   ]
  },
  {
   "cell_type": "code",
   "execution_count": 2,
   "metadata": {},
   "outputs": [
    {
     "name": "stdout",
     "output_type": "stream",
     "text": [
      "A new struct `FavettoSamsonAux{K, Q, R}` has been defined.\n"
     ]
    }
   ],
   "source": [
    "@diffusion_process FavettoSamsonAux{K,Q,R} begin\n",
    "    :dimensions\n",
    "    process --> 2\n",
    "    wiener --> 2\n",
    "\n",
    "    :parameters\n",
    "    (α, β, λ, μ, σ1, σ2) --> K\n",
    "    dose --> Q\n",
    "    :auxiliary_info\n",
    "    t0 --> Float64\n",
    "    T --> Float64\n",
    "    vT --> R\n",
    "\n",
    "    :additional\n",
    "    constdiff --> true\n",
    "    linear --> true\n",
    "end\n",
    "\n",
    "DiffusionDefinition.B(t, P::FavettoSamsonAux) = @SMatrix [-(P.λ+ P.β) P.β; P.λ -P.μ]\n",
    "DiffusionDefinition.β(t, P::FavettoSamsonAux) = @SVector [P.α* P.dose(t), 0.0]\n",
    "DiffusionDefinition.σ(t, P::FavettoSamsonAux) = SDiagonal(P.σ1, P.σ2)\n",
    "\n",
    "@load_diffusion FavettoSamsonAux"
   ]
  },
  {
   "cell_type": "code",
   "execution_count": 3,
   "metadata": {},
   "outputs": [
    {
     "data": {
      "text/plain": [
       "loglikelihood (generic function with 1 method)"
      ]
     },
     "execution_count": 3,
     "metadata": {},
     "output_type": "execute_result"
    }
   ],
   "source": [
    "function loglikelihood(true_data, curr_data, σ)\n",
    "    ll = (norm(curr_data-true_data, 2) / σ)^2\n",
    "    return ll\n",
    "end"
   ]
  },
  {
   "cell_type": "code",
   "execution_count": 4,
   "metadata": {},
   "outputs": [
    {
     "data": {
      "text/plain": [
       "customkernel (generic function with 2 methods)"
      ]
     },
     "execution_count": 4,
     "metadata": {},
     "output_type": "execute_result"
    }
   ],
   "source": [
    "# define a transition kernel for θ\n",
    "function customkernel(θ, s::Symbol, scale=0.1)\n",
    "\tθ° = deepcopy(θ)\n",
    "\tθ°[s] += 2.0*scale*(rand()-0.5)\n",
    "\tθ°\n",
    "end"
   ]
  },
  {
   "cell_type": "code",
   "execution_count": 5,
   "metadata": {},
   "outputs": [
    {
     "data": {
      "text/plain": [
       "update_random_walker (generic function with 1 method)"
      ]
     },
     "execution_count": 5,
     "metadata": {},
     "output_type": "execute_result"
    }
   ],
   "source": [
    "function update_random_walker(q, a_r, n) # transition kernel q + acceptance rate + number of batch of 100 iteratiions: n\n",
    "    q_move = min(0.01,1/sqrt(n))\n",
    "    if a_r > 0.44\n",
    "        q = q * exp(q_move)\n",
    "    elseif a_r < 0.44\n",
    "        q = q / exp(q_move)\n",
    "    else\n",
    "        q = q\n",
    "    end\n",
    "    q\n",
    "end"
   ]
  },
  {
   "cell_type": "code",
   "execution_count": 6,
   "metadata": {},
   "outputs": [
    {
     "data": {
      "text/plain": [
       "mcmc_MH (generic function with 1 method)"
      ]
     },
     "execution_count": 6,
     "metadata": {},
     "output_type": "execute_result"
    }
   ],
   "source": [
    "function mcmc_MH(AuxLaw, recording, dt, θ, s::Symbol; q=0.3, n)\n",
    "    tts = OBS.setup_time_grids(recording, dt)\n",
    "    PP = build_guid_prop(AuxLaw, recording, tts)\n",
    "    PP° = deepcopy(PP)\n",
    "    y1 = rand(recording.x0_prior)\n",
    "    XX, WW, Wnr = rand(PP, y1)\n",
    "    XX°, WW° = trajectory(PP)\n",
    "    ll = loglikhd(PP, XX)\n",
    "#     ll = 0\n",
    "    ll_list = Float64[ll,]\n",
    "    acpt_r = 0\n",
    "    for i in 1:n\n",
    "        θ° = customkernel(θ, s, q)\n",
    "        DD.set_parameters!(PP°, θ°)\n",
    "        recompute_guiding_term!(PP°)\n",
    "        _, ll° = GP.solve_and_ll!(XX°, WW, PP°, y1)\n",
    "#         P = FavettoSamsonModified(θ..., t->t/(1+t^2))\n",
    "#         X = rand(P, tt, y1)\n",
    "#         data_new = X.x\n",
    "#         ll_new = loglikelihood(data_new, data, 1.0)\n",
    "        \n",
    "        if rand() < exp(ll°-ll)\n",
    "            XX, PP, θ, XX°, PP°, θ° = XX°, PP°, θ°, XX, PP, θ\n",
    "            ll = ll°\n",
    "            append!(ll_list, ll)\n",
    "            acpt_r += 1\n",
    "        end\n",
    "        if i % 100 == 0\n",
    "            q = update_random_walker(q, acpt_r / 100, i)\n",
    "            acpt_r = 0\n",
    "        end\n",
    "    end\n",
    "    return ll_list\n",
    "end"
   ]
  },
  {
   "cell_type": "code",
   "execution_count": 7,
   "metadata": {},
   "outputs": [
    {
     "data": {
      "text/plain": [
       "credible_interval (generic function with 2 methods)"
      ]
     },
     "execution_count": 7,
     "metadata": {},
     "output_type": "execute_result"
    }
   ],
   "source": [
    "function credible_interval(data::Vector{Float64}, q::Array{Float64,1}=[0.025,0.975])\n",
    "    a, b = quantile(LL_list,[0.025,0.975])\n",
    "    println(\"likelihood based credible interval is [$a,$b]\")\n",
    "end"
   ]
  },
  {
   "cell_type": "code",
   "execution_count": 8,
   "metadata": {},
   "outputs": [
    {
     "data": {
      "text/plain": [
       "1000-element Vector{Tuple{Float64, Float64}}:\n",
       " (0.01, -0.10488417914007307)\n",
       " (0.02, 1.1551022158307789)\n",
       " (0.03, 3.4776852092022437)\n",
       " (0.04, -1.0335863226159137)\n",
       " (0.05, 0.509378057578065)\n",
       " (0.06, 0.8893048941575232)\n",
       " (0.07, 1.0315304087120607)\n",
       " (0.08, 1.169007732988062)\n",
       " (0.09, 0.6367200652969395)\n",
       " (0.1, 2.3487506520709425)\n",
       " (0.11, 2.8868413166934923)\n",
       " (0.12, 0.6685048083576012)\n",
       " (0.13, 2.320568262705999)\n",
       " ⋮\n",
       " (9.89, 3.2714970288664196)\n",
       " (9.9, 2.7952338547975595)\n",
       " (9.91, 3.559453617231237)\n",
       " (9.92, 4.585819272247674)\n",
       " (9.93, 3.8666658060895376)\n",
       " (9.94, 5.156077760461788)\n",
       " (9.95, 5.1155874941154265)\n",
       " (9.96, 4.126804257445513)\n",
       " (9.97, 2.5688380178390258)\n",
       " (9.98, 3.7219872154446763)\n",
       " (9.99, 4.396128972988999)\n",
       " (10.0, 5.079784562868041)"
      ]
     },
     "execution_count": 8,
     "metadata": {},
     "output_type": "execute_result"
    }
   ],
   "source": [
    "θ = [116.7, 5.83, 1.25, 2.25, 2.0, 1.0]\n",
    "P = FavettoSamsonModified(θ..., t->t/(1+t^2))\n",
    "tt, y1 = 0.0:0.01:10.0, @SVector [0.0, 0.0]\n",
    "X = rand(P, tt, y1)\n",
    "data = map(\n",
    "    x->(x[1], x[2] + randn()),\n",
    "    collect(zip(X.t, X.x))\n",
    ")[2:end]\n",
    "\n",
    "data1 = map(\n",
    "    x->(x[1], x[2][1] + x[2][2] + 1randn()),\n",
    "    collect(zip(X.t, X.x))\n",
    ")[2:end]"
   ]
  },
  {
   "cell_type": "code",
   "execution_count": 9,
   "metadata": {},
   "outputs": [
    {
     "data": {
      "text/plain": [
       "(P = FavettoSamsonModified{Float64, var\"#8#9\"}(116.7, 5.83, 1.25, 2.25, 2.0, 0.0, var\"#8#9\"()), obs = LinearGsnObs{0, 1, SVector{1, Float64}, NoFirstPassageTimes, SMatrix{1, 2, Float64, 2}, SVector{1, Float64}, SMatrix{1, 1, Float64, 1}, Any}[LinearGsnObs{0, 1, SVector{1, Float64}, NoFirstPassageTimes, SMatrix{1, 2, Float64, 2}, SVector{1, Float64}, SMatrix{1, 1, Float64, 1}, Any}([1.0 1.0], [0.0], [0.1], [-0.10488417914007307], 0.01, false, Any[]), LinearGsnObs{0, 1, SVector{1, Float64}, NoFirstPassageTimes, SMatrix{1, 2, Float64, 2}, SVector{1, Float64}, SMatrix{1, 1, Float64, 1}, Any}([1.0 1.0], [0.0], [0.1], [1.1551022158307789], 0.02, false, Any[]), LinearGsnObs{0, 1, SVector{1, Float64}, NoFirstPassageTimes, SMatrix{1, 2, Float64, 2}, SVector{1, Float64}, SMatrix{1, 1, Float64, 1}, Any}([1.0 1.0], [0.0], [0.1], [3.4776852092022437], 0.03, false, Any[]), LinearGsnObs{0, 1, SVector{1, Float64}, NoFirstPassageTimes, SMatrix{1, 2, Float64, 2}, SVector{1, Float64}, SMatrix{1, 1, Float64, 1}, Any}([1.0 1.0], [0.0], [0.1], [-1.0335863226159137], 0.04, false, Any[]), LinearGsnObs{0, 1, SVector{1, Float64}, NoFirstPassageTimes, SMatrix{1, 2, Float64, 2}, SVector{1, Float64}, SMatrix{1, 1, Float64, 1}, Any}([1.0 1.0], [0.0], [0.1], [0.509378057578065], 0.05, false, Any[]), LinearGsnObs{0, 1, SVector{1, Float64}, NoFirstPassageTimes, SMatrix{1, 2, Float64, 2}, SVector{1, Float64}, SMatrix{1, 1, Float64, 1}, Any}([1.0 1.0], [0.0], [0.1], [0.8893048941575232], 0.06, false, Any[]), LinearGsnObs{0, 1, SVector{1, Float64}, NoFirstPassageTimes, SMatrix{1, 2, Float64, 2}, SVector{1, Float64}, SMatrix{1, 1, Float64, 1}, Any}([1.0 1.0], [0.0], [0.1], [1.0315304087120607], 0.07, false, Any[]), LinearGsnObs{0, 1, SVector{1, Float64}, NoFirstPassageTimes, SMatrix{1, 2, Float64, 2}, SVector{1, Float64}, SMatrix{1, 1, Float64, 1}, Any}([1.0 1.0], [0.0], [0.1], [1.169007732988062], 0.08, false, Any[]), LinearGsnObs{0, 1, SVector{1, Float64}, NoFirstPassageTimes, SMatrix{1, 2, Float64, 2}, SVector{1, Float64}, SMatrix{1, 1, Float64, 1}, Any}([1.0 1.0], [0.0], [0.1], [0.6367200652969395], 0.09, false, Any[]), LinearGsnObs{0, 1, SVector{1, Float64}, NoFirstPassageTimes, SMatrix{1, 2, Float64, 2}, SVector{1, Float64}, SMatrix{1, 1, Float64, 1}, Any}([1.0 1.0], [0.0], [0.1], [2.3487506520709425], 0.1, false, Any[])  …  LinearGsnObs{0, 1, SVector{1, Float64}, NoFirstPassageTimes, SMatrix{1, 2, Float64, 2}, SVector{1, Float64}, SMatrix{1, 1, Float64, 1}, Any}([1.0 1.0], [0.0], [0.1], [3.559453617231237], 9.91, false, Any[]), LinearGsnObs{0, 1, SVector{1, Float64}, NoFirstPassageTimes, SMatrix{1, 2, Float64, 2}, SVector{1, Float64}, SMatrix{1, 1, Float64, 1}, Any}([1.0 1.0], [0.0], [0.1], [4.585819272247674], 9.92, false, Any[]), LinearGsnObs{0, 1, SVector{1, Float64}, NoFirstPassageTimes, SMatrix{1, 2, Float64, 2}, SVector{1, Float64}, SMatrix{1, 1, Float64, 1}, Any}([1.0 1.0], [0.0], [0.1], [3.8666658060895376], 9.93, false, Any[]), LinearGsnObs{0, 1, SVector{1, Float64}, NoFirstPassageTimes, SMatrix{1, 2, Float64, 2}, SVector{1, Float64}, SMatrix{1, 1, Float64, 1}, Any}([1.0 1.0], [0.0], [0.1], [5.156077760461788], 9.94, false, Any[]), LinearGsnObs{0, 1, SVector{1, Float64}, NoFirstPassageTimes, SMatrix{1, 2, Float64, 2}, SVector{1, Float64}, SMatrix{1, 1, Float64, 1}, Any}([1.0 1.0], [0.0], [0.1], [5.1155874941154265], 9.95, false, Any[]), LinearGsnObs{0, 1, SVector{1, Float64}, NoFirstPassageTimes, SMatrix{1, 2, Float64, 2}, SVector{1, Float64}, SMatrix{1, 1, Float64, 1}, Any}([1.0 1.0], [0.0], [0.1], [4.126804257445513], 9.96, false, Any[]), LinearGsnObs{0, 1, SVector{1, Float64}, NoFirstPassageTimes, SMatrix{1, 2, Float64, 2}, SVector{1, Float64}, SMatrix{1, 1, Float64, 1}, Any}([1.0 1.0], [0.0], [0.1], [2.5688380178390258], 9.97, false, Any[]), LinearGsnObs{0, 1, SVector{1, Float64}, NoFirstPassageTimes, SMatrix{1, 2, Float64, 2}, SVector{1, Float64}, SMatrix{1, 1, Float64, 1}, Any}([1.0 1.0], [0.0], [0.1], [3.7219872154446763], 9.98, false, Any[]), LinearGsnObs{0, 1, SVector{1, Float64}, NoFirstPassageTimes, SMatrix{1, 2, Float64, 2}, SVector{1, Float64}, SMatrix{1, 1, Float64, 1}, Any}([1.0 1.0], [0.0], [0.1], [4.396128972988999], 9.99, false, Any[]), LinearGsnObs{0, 1, SVector{1, Float64}, NoFirstPassageTimes, SMatrix{1, 2, Float64, 2}, SVector{1, Float64}, SMatrix{1, 1, Float64, 1}, Any}([1.0 1.0], [0.0], [0.1], [5.079784562868041], 10.0, false, Any[])], t0 = 0.0, x0_prior = KnownStartingPt{SVector{2, Float64}}([0.0, 0.0]))"
      ]
     },
     "execution_count": 9,
     "metadata": {},
     "output_type": "execute_result"
    }
   ],
   "source": [
    "recording = (\n",
    "    #P = FavettoSamsonModified([10, 5, #==# 0.0 #==#, 2, 1, 1]..., t-> 1/(1+t^2)),\n",
    "    P = FavettoSamsonModified([116.7, 5.83, 1.25, 2.25, 2.0, #==# 0.0 #==#]..., t->t/(1+t^2)), # diffusion law\n",
    "    obs = load_data(\n",
    "        ObsScheme(\n",
    "            LinearGsnObs(\n",
    "                0.0, (@SVector [0.0]); # dummy variables indicating datatype of observations\n",
    "                L=(@SMatrix [1.0 1.0]), # observation operator\n",
    "                Σ=(@SMatrix [0.1]) #1e-2*SDiagonal{2,Float64}(I) # noise on the observations\n",
    "            )\n",
    "        ),\n",
    "        data1\n",
    "    ),\n",
    "    t0 = 0.0,\n",
    "    x0_prior = KnownStartingPt(y1),\n",
    ")"
   ]
  },
  {
   "cell_type": "code",
   "execution_count": 10,
   "metadata": {},
   "outputs": [
    {
     "name": "stdout",
     "output_type": "stream",
     "text": [
      "likelihood based credible interval is [-1783.8172740560738,-1780.7286548301179]\n"
     ]
    }
   ],
   "source": [
    "DD.const_parameter_names(::Type{<:FavettoSamsonModified}) = (:α, :β, :λ,:μ,:σ1) \n",
    "DD.const_parameter_names(::Type{<:FavettoSamsonAux}) = (:α,:β,:λ, :μ, :σ1, :t0, :T, :vT, :xT)\n",
    "LL_list = mcmc_MH(FavettoSamsonAux, recording, 0.01, Dict(:σ2=> 0.0), :σ2; q = 0.3, n = 10^4)\n",
    "credible_interval(LL_list)"
   ]
  },
  {
   "cell_type": "code",
   "execution_count": null,
   "metadata": {},
   "outputs": [],
   "source": []
  }
 ],
 "metadata": {
  "kernelspec": {
   "display_name": "Julia 1.6.6",
   "language": "julia",
   "name": "julia-1.6"
  },
  "language_info": {
   "file_extension": ".jl",
   "mimetype": "application/julia",
   "name": "julia",
   "version": "1.6.6"
  },
  "latex_envs": {
   "LaTeX_envs_menu_present": true,
   "autoclose": false,
   "autocomplete": true,
   "bibliofile": "biblio.bib",
   "cite_by": "apalike",
   "current_citInitial": 1,
   "eqLabelWithNumbers": true,
   "eqNumInitial": 1,
   "hotkeys": {
    "equation": "Ctrl-E",
    "itemize": "Ctrl-I"
   },
   "labels_anchors": false,
   "latex_user_defs": false,
   "report_style_numbering": false,
   "user_envs_cfg": false
  }
 },
 "nbformat": 4,
 "nbformat_minor": 2
}
